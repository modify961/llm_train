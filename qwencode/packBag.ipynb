{
 "cells": [
  {
   "cell_type": "code",
   "execution_count": 6,
   "id": "7193ee09-bcb6-49a9-b343-28e01f493d98",
   "metadata": {},
   "outputs": [
    {
     "name": "stdout",
     "output_type": "stream",
     "text": [
      "/root/autodl-tmp/finetune\n"
     ]
    }
   ],
   "source": [
    "from peft import PeftModel\n",
    "from transformers import AutoModelForCausalLM, AutoTokenizer\n",
    "import torch\n",
    "import os\n",
    "\n",
    "\n",
    "path = os.getcwd()\n",
    "print(path)"
   ]
  },
  {
   "cell_type": "code",
   "execution_count": 7,
   "id": "e9d8bbd1-8fbe-473b-92ba-deced99613d5",
   "metadata": {},
   "outputs": [],
   "source": [
    "#设置原来本地模型的地址\n",
    "model_name_or_path = '/root/autodl-tmp/finetune/qwen/Qwen/CodeQwen7B/'\n",
    "#设置微调后模型的地址，就是上面的那个地址\n",
    "adapter_name_or_path = '/root/autodl-tmp/finetune/aspcoder_lora'\n",
    "#设置合并后模型的导出地址\n",
    "save_path = '/root/autodl-tmp/finetune/QwenSave'\n"
   ]
  },
  {
   "cell_type": "code",
   "execution_count": 8,
   "id": "b9d9e52d-4d9c-420d-98e0-237e7efab398",
   "metadata": {},
   "outputs": [
    {
     "data": {
      "application/vnd.jupyter.widget-view+json": {
       "model_id": "e83a05336c82426eaf954341cce85ced",
       "version_major": 2,
       "version_minor": 0
      },
      "text/plain": [
       "Loading checkpoint shards:   0%|          | 0/4 [00:00<?, ?it/s]"
      ]
     },
     "metadata": {},
     "output_type": "display_data"
    }
   ],
   "source": [
    "tokenizer = AutoTokenizer.from_pretrained(\n",
    "    model_name_or_path,\n",
    "    trust_remote_code=True\n",
    ")\n",
    "model = AutoModelForCausalLM.from_pretrained(\n",
    "    model_name_or_path,\n",
    "    trust_remote_code=True,\n",
    "    low_cpu_mem_usage=True,\n",
    "    torch_dtype=torch.float16,\n",
    "    device_map='auto'\n",
    ")"
   ]
  },
  {
   "cell_type": "code",
   "execution_count": 9,
   "id": "181e7b3c-1694-48dc-8daa-f19e8d7489f7",
   "metadata": {},
   "outputs": [
    {
     "name": "stdout",
     "output_type": "stream",
     "text": [
      "load adapter success\n"
     ]
    }
   ],
   "source": [
    "model = PeftModel.from_pretrained(model, adapter_name_or_path)\n",
    "print(\"load adapter success\")\n",
    "model = model.merge_and_unload()"
   ]
  },
  {
   "cell_type": "code",
   "execution_count": 10,
   "id": "a4319841-0465-4b72-b074-03e80fa67cfb",
   "metadata": {},
   "outputs": [
    {
     "name": "stdout",
     "output_type": "stream",
     "text": [
      "save done.\n"
     ]
    }
   ],
   "source": [
    "tokenizer.save_pretrained(save_path)\n",
    "model.save_pretrained(save_path)\n",
    "print(\"save done.\")"
   ]
  },
  {
   "cell_type": "code",
   "execution_count": null,
   "id": "91cefff2-109f-404e-abaa-569b293199b0",
   "metadata": {},
   "outputs": [],
   "source": []
  }
 ],
 "metadata": {
  "kernelspec": {
   "display_name": "Python 3 (ipykernel)",
   "language": "python",
   "name": "python3"
  },
  "language_info": {
   "codemirror_mode": {
    "name": "ipython",
    "version": 3
   },
   "file_extension": ".py",
   "mimetype": "text/x-python",
   "name": "python",
   "nbconvert_exporter": "python",
   "pygments_lexer": "ipython3",
   "version": "3.10.8"
  }
 },
 "nbformat": 4,
 "nbformat_minor": 5
}
